{
  "metadata" : {
    "config" : {
      "dependencies" : {
        "scala" : [
          "file:///opt/app/lib/bioinformatics.jar",
          "file:///opt/app/lib/spark-r.jar",
          "file:///opt/app/lib/spark-reflow.jar"
        ]
      },
      "exclusions" : [
      ],
      "repositories" : [
      ],
      "sparkConfig" : {
        "spark.master" : "local[*]"
      },
      "env" : {
        "WORKFLOWS_PATH" : "/opt/workflows"
      }
    },
    "language_info" : {
      "name" : "scala"
    }
  },
  "nbformat" : 4,
  "nbformat_minor" : 0,
  "cells" : [
    {
      "cell_type" : "markdown",
      "execution_count" : 0,
      "metadata" : {
        "language" : "text"
      },
      "language" : "text",
      "source" : [
        "# RnaSeqExample\n",
        "\n",
        "\n",
        "This is an example of a bioinformatics pipeline that uses Reflow, Spark, and some R packages.\n",
        "\n",
        "\n"
      ],
      "outputs" : [
      ]
    },
    {
      "cell_type" : "code",
      "execution_count" : 1,
      "metadata" : {
        "cell.metadata.exec_info" : {
          "startTs" : 1587481251217,
          "endTs" : 1587481255667
        },
        "language" : "scala"
      },
      "language" : "scala",
      "source" : [
        "// Test that R works, and fail early if it doesn't\n",
        "io.hchauvin.r.$(\"print('test')\")"
      ],
      "outputs" : [
        {
          "execution_count" : 1,
          "data" : {
            "text/plain" : [
              "[STRING \"test\"]"
            ]
          },
          "metadata" : {
            "name" : "Out",
            "type" : "REXP"
          },
          "output_type" : "execute_result"
        }
      ]
    },
    {
      "cell_type" : "code",
      "execution_count" : 2,
      "metadata" : {
        "cell.metadata.exec_info" : {
          "startTs" : 1587481255810,
          "endTs" : 1587481258873
        },
        "language" : "scala"
      },
      "language" : "scala",
      "source" : [
        "// Set up the S3 file system for Hadoop\n",
        "spark.sparkContext.hadoopConfiguration.set(\"fs.s3a.impl\", \n",
        "    \"org.apache.hadoop.fs.s3a.S3AFileSystem\"\n",
        ")"
      ],
      "outputs" : [
      ]
    },
    {
      "cell_type" : "code",
      "execution_count" : 3,
      "metadata" : {
        "cell.metadata.exec_info" : {
          "startTs" : 1587481258963,
          "endTs" : 1587481262407
        },
        "language" : "scala"
      },
      "language" : "scala",
      "source" : [
        "object Ref {\n",
        "  // Reference genomes\n",
        "  val genomes = Map(\n",
        "    'C_elegans -> \"ftp://ftp.ensembl.org/pub/release-99/fasta/caenorhabditis_elegans/cdna/Caenorhabditis_elegans.WBcel235.cdna.all.fa.gz\"\n",
        "  )\n",
        "}"
      ],
      "outputs" : [
      ]
    },
    {
      "cell_type" : "code",
      "execution_count" : 4,
      "metadata" : {
        "cell.metadata.exec_info" : {
          "startTs" : 1587481262503,
          "endTs" : 1587481275250
        },
        "language" : "scala"
      },
      "language" : "scala",
      "source" : [
        "// Study: https://trace.ncbi.nlm.nih.gov/Traces/sra/?study=SRP253718\n",
        "val runProperties = Seq(\n",
        "  (\"SRR11392700\", \"wild-type\"),\n",
        "  (\"SRR11392701\", \"wild-type\"),\n",
        "  (\"SRR11392702\", \"wild-type\"),\n",
        "  (\"SRR11392703\", \"oef-1(vr25)\"),\n",
        "  (\"SRR11392704\", \"oef-1(vr25)\"),\n",
        "  (\"SRR11392705\", \"oef-1(vr25)\")\n",
        ").toDF(\"sraAcc\", \"genotype\")"
      ],
      "outputs" : [
      ]
    },
    {
      "cell_type" : "code",
      "execution_count" : 5,
      "metadata" : {
        "cell.metadata.exec_info" : {
          "startTs" : 1587481275710,
          "endTs" : 1587481278941
        },
        "language" : "scala"
      },
      "language" : "scala",
      "source" : [
        "// Where to store the feature counts on s3\n",
        "val outputPrefix = \"s3a://exploratory-pipeline-example/count/\""
      ],
      "outputs" : [
      ]
    },
    {
      "cell_type" : "code",
      "execution_count" : 6,
      "metadata" : {
        "cell.metadata.exec_info" : {
          "startTs" : 1587481279027,
          "endTs" : 1587481349547
        },
        "language" : "scala"
      },
      "language" : "scala",
      "source" : [
        "// Count the features by using a Reflow pipeline, in batch mode.\n",
        "import io.hchauvin.bio.RnaSeq\n",
        "import io.hchauvin.reflow.Reflow\n",
        "import java.nio.file.Paths\n",
        "\n",
        "val runs = runProperties\n",
        "    .map(r => RnaSeq.Run(r.getAs[String](\"sraAcc\"), Ref.genomes('C_elegans)))\n",
        "    .collect\n",
        "\n",
        "val rf = new Reflow(batchParentPath = Paths.get(\"batch\"))\n",
        "val featureCounts = RnaSeq.batch(rf, \"count\", outputPrefix, runs)"
      ],
      "outputs" : [
        {
          "name" : "stdout",
          "text" : [
            "stdout: \n",
            "stderr: reflow: error retrieving current user: user: Current not implemented on linux/amd64reflow: error retrieving current user: user: Current not implemented on linux/amd64reflow: batch program /opt/workflows/rna_seq.rf runsfile /opt/polynote/batch/count/batch_csv/part-00000-3c778396-b9f3-4ca0-890d-6ed5f5308317-c000.csvreflow: run SRR11392704: done: val<>reflow: run SRR11392702: done: val<>reflow: run SRR11392700: done: val<>reflow: run SRR11392705: done: val<>reflow: run SRR11392703: done: val<>reflow: run SRR11392701: done: val<>\n"
          ],
          "output_type" : "stream"
        }
      ]
    },
    {
      "cell_type" : "code",
      "execution_count" : 7,
      "metadata" : {
        "cell.metadata.exec_info" : {
          "startTs" : 1587481349624,
          "endTs" : 1587481366334
        },
        "language" : "scala"
      },
      "language" : "scala",
      "source" : [
        "// Normalize the feature counts so that the quantiles are the same\n",
        "// across the samples.\n",
        "import io.hchauvin.bio.Stringtie\n",
        "import io.hchauvin.r\n",
        "\n",
        "val normalizedFeatureCounts = Stringtie.toExpressionMatrix(featureCounts)\n",
        "    .normalizeQuantiles()"
      ],
      "outputs" : [
      ]
    },
    {
      "cell_type" : "code",
      "execution_count" : 8,
      "metadata" : {
        "cell.metadata.exec_info" : {
          "startTs" : 1587481366457
        },
        "language" : "scala"
      },
      "language" : "scala",
      "source" : [
        "// Create a heatmap for the leading genes, in terms of\n",
        "// relative change in the genotypes.\n",
        "import io.hchauvin.r\n",
        "\n",
        "r.assign(\"mat\", normalizedFeatureCounts.rexp)\n",
        "\n",
        "r.$(\"\"\"mat %>%\n",
        "    matrix(., ncol=6)\"\"\")\n",
        "\n",
        "io.hchauvin.r.plot(\"\"\"\n",
        "library(magrittr)\n",
        "\n",
        "# Workaround because somehow JRI transforms a matrix into a vector.\n",
        "mat %<>%\n",
        "    matrix(., ncol=6)\n",
        "\n",
        "fit <- mat %>%\n",
        "    limma::lmFit(\n",
        "        # Design matrix\n",
        "        cbind(\n",
        "            Quiescence=1,\n",
        "            OefVsWT=c(rep(0, 3), rep(1, 3))\n",
        "        )\n",
        "    )\n",
        "\n",
        "bayes <- fit %>%\n",
        "    limma::eBayes(trend=TRUE, robust=FALSE)\n",
        "\n",
        "z_score <- function (x) {\n",
        "    (x - mean(x, na.rm=TRUE)) / sd(x, na.rm=TRUE)\n",
        "}\n",
        "\n",
        "library(magrittr)\n",
        "mat %>%\n",
        "    .[order(bayes$lods,decreasing=TRUE)[1:500],] %>%\n",
        "    apply(1, z_score) %>%\n",
        "    t() %>%\n",
        "    ComplexHeatmap::Heatmap(\n",
        "        show_row_names = FALSE\n",
        "    )\n",
        "\"\"\")"
      ],
      "outputs" : [
      ]
    }
  ]
}